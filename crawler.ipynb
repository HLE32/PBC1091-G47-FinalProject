{
 "cells": [
  {
   "cell_type": "code",
   "execution_count": 13,
   "metadata": {},
   "outputs": [
    {
     "name": "stdout",
     "output_type": "stream",
     "text": [
      "username:陳少愷\n",
      "time:1 個月前\n",
      "comment:各類音樂藝文表演場所，價格公道，音場還過的去\n",
      "rate:4\n",
      "=====\n",
      "username:Janis Lee\n",
      "time:4 個月前\n",
      "comment:場地是很不錯，氣氛很ok，就是空間小了一點，若要跟別人共桌也很尷尬，但整體上還算是可以推薦的地方👍\n",
      "rate:4\n",
      "=====\n",
      "username:沈才修\n",
      "time:3 個月前\n",
      "comment:座位多，看表演很輕鬆\n",
      "可以點酒水來喝\n",
      "rate:4\n",
      "=====\n",
      "username:貳行程樂團\n",
      "time:1 年前\n",
      "comment:感謝河岸給我們機會演出，我們來自屏東，貳行程樂團\n",
      "rate:5\n",
      "=====\n",
      "username:jason sun\n",
      "time:2 個月前\n",
      "comment:中小型表演場地！溫馨小酒館！\n",
      "rate:5\n",
      "=====\n",
      "username:經武陳\n",
      "time:3 天前\n",
      "comment:休閒聽好歌，棒\n",
      "rate:4\n",
      "=====\n",
      "username:游偉哲\n",
      "time:8 個月前\n",
      "comment:空間不大，但蠻溫馨舒適的，在這裡聽歌手唱歌然後喝點小酒是件很享受的事。\n",
      "rate:5\n",
      "=====\n",
      "username:James Hung\n",
      "time:10 個月前\n",
      "comment:整體感受佳，舞台稍偏小，是個溫馨的小空間\n",
      "rate:4\n",
      "=====\n",
      "username:Nicole PENG\n",
      "time:2 個月前\n",
      "comment:燈光美！舞台氣氛很好！\n",
      "rate:4\n",
      "=====\n",
      "username:Eris Feng\n",
      "time:1 年前\n",
      "comment:店內空間不大，大約有40個座位，設備舊舊的，環境不算好，位置也安排的很緊湊，飲料和食物的CP值也不高。所以來這裡的重點還是：聽，音，樂，啦！！這裡定期都會舉辦很多現場的音樂表演活動，通常都是比較還不知名的獨立歌手，場地小小的剛好有機會可以和喜歡的樂團成員靠的很近，是一個愛音樂的人會愛的地方！（不太愛看現場表演的朋友千萬別來，畢竟這裡的飲料食物價位還是咖啡廳價位...）\n",
      "rate:4\n",
      "=====\n"
     ]
    }
   ],
   "source": [
    "import requests\n",
    "import json\n",
    "url = 'https://www.google.com/maps/preview/review/listentitiesreviews?authuser=0&hl=zh-TW&gl=tw&pb=!1m2!1y3765758657372873253!2y7421598300058256399!2m2!1i8!2i10!3e1!4m5!3b1!4b1!5b1!6b1!7b1!5m2!1slHTYX7v0NLKVr7wP8NGSgAU!7e81'\n",
    "rt = requests.get(url).text\n",
    "pretext = ')]}\\''\n",
    "text = rt.replace(pretext, '')\n",
    "\n",
    "soup = json.loads(text)\n",
    "\n",
    "conlist = soup[2]\n",
    "\n",
    "for i in conlist:\n",
    "    print('username:' + str(i[0][1]))\n",
    "    print('time:' + str(i[1]))\n",
    "    print('comment:' + str(i[3]))\n",
    "    print('rate:' + str(i[4]))\n",
    "    print('=====')"
   ]
  },
  {
   "cell_type": "code",
   "execution_count": 24,
   "metadata": {},
   "outputs": [
    {
     "name": "stdout",
     "output_type": "stream",
     "text": [
      "彰化縣\n",
      "大村鄉\n",
      "https://ifoodie.tw/explore/彰化縣/list/大村鄉\n"
     ]
    }
   ],
   "source": [
    "county = input()\n",
    "place = input()\n",
    "url = 'https://ifoodie.tw/explore/' + county + '/list/' + place + '?page='\n",
    "\n",
    "attr = {'class': 'jsx-2133253768 title-text'}\n",
    "\n",
    "print(url)"
   ]
  },
  {
   "cell_type": "code",
   "execution_count": 7,
   "metadata": {},
   "outputs": [
    {
     "name": "stdout",
     "output_type": "stream",
     "text": [
      "輸入縣市：彰化縣\n",
      "輸入地區：大村鄉\n",
      "想找的食物分類：\n",
      "https://ifoodie.tw/explore/彰化縣/list/大村鄉?page=\n",
      "店名：穙食 雞蛋糕\n",
      "評價：4.7\n",
      "地址：彰化縣大村鄉大仁路一段169號\n",
      "=====\n",
      "店名：大村當歸鴨麵線\n",
      "評價：4.5\n",
      "地址：彰化縣大村鄉中山路二段260號\n",
      "=====\n",
      "店名：心口福脆皮雞排\n",
      "評價：4.4\n",
      "地址：彰化縣大村鄉山腳路92之12號\n",
      "=====\n",
      "店名：順泰蜜餞\n",
      "評價：4.4\n",
      "地址：彰化縣大村鄉中山路一段147號\n",
      "=====\n",
      "店名：小時候豆標\n",
      "評價：4.4\n",
      "地址：彰化縣大村鄉中山路三段152號\n",
      "=====\n",
      "店名：進昌咖啡烘焙館\n",
      "評價：3.6\n",
      "地址：彰化縣大村鄉中正東路269巷271弄252號\n",
      "=====\n"
     ]
    }
   ],
   "source": [
    "import requests\n",
    "from bs4 import BeautifulSoup\n",
    "\n",
    "county = input('輸入縣市：')\n",
    "place = input('輸入地區：')\n",
    "cat = input('想找的食物分類：')\n",
    "url_ori = 'https://ifoodie.tw/explore/' + county + '/list/' + place + cat + '?page='\n",
    "\n",
    "r = requests.get(url_ori)\n",
    "soup = BeautifulSoup(r.text, 'html.parser')\n",
    "\n",
    "attr_num = {'class': 'jsx-2606512903'}\n",
    "temp_num = soup.find_all('span', attrs = attr_num)[2].get_text()\n",
    "\n",
    "temp_num = temp_num.replace('(', '')\n",
    "temp_num = temp_num.replace(')', '')\n",
    "num = (int(temp_num)//15)+1\n",
    "\n",
    "all_data = []\n",
    "for a in range(num):\n",
    "    url = url_ori + str(a+1) \n",
    "    r = requests.get(url)\n",
    "    soup = BeautifulSoup(r.text, 'html.parser')\n",
    "\n",
    "    attr_name = {'class': 'jsx-2133253768 title-text'}\n",
    "    names = soup.find_all('a', attrs = attr_name)\n",
    "\n",
    "    attr_rate = {'class': 'jsx-1207467136 text'}\n",
    "    rate = soup.find_all('div', attrs = attr_rate)\n",
    "\n",
    "    attr_add = {'class': 'jsx-2133253768 address-row'}\n",
    "    add = soup.find_all('div', attrs = attr_add)\n",
    "    for i, j, l in zip(names, rate, add):\n",
    "        clean_name = i.get_text()\n",
    "        clean_rate = j.get_text()\n",
    "        clean_add = l.get_text()\n",
    "        all_data.append([clean_name, clean_rate, clean_add])\n",
    "\n",
    "all_data = sorted(all_data, key = lambda x:x[1], reverse = True)\n",
    "for b in all_data:\n",
    "    print('店名：' + b[0])\n",
    "    print('評價：' + b[1])\n",
    "    print('地址：' + b[2])\n",
    "    print('=====')\n",
    "        \n"
   ]
  },
  {
   "cell_type": "code",
   "execution_count": null,
   "metadata": {},
   "outputs": [],
   "source": []
  },
  {
   "cell_type": "code",
   "execution_count": null,
   "metadata": {},
   "outputs": [],
   "source": []
  }
 ],
 "metadata": {
  "kernelspec": {
   "display_name": "Python 3",
   "language": "python",
   "name": "python3"
  },
  "language_info": {
   "codemirror_mode": {
    "name": "ipython",
    "version": 3
   },
   "file_extension": ".py",
   "mimetype": "text/x-python",
   "name": "python",
   "nbconvert_exporter": "python",
   "pygments_lexer": "ipython3",
   "version": "3.7.4"
  }
 },
 "nbformat": 4,
 "nbformat_minor": 2
}
